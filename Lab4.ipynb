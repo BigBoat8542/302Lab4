{
  "nbformat": 4,
  "nbformat_minor": 0,
  "metadata": {
    "colab": {
      "name": "Lab4.ipynb",
      "provenance": [],
      "authorship_tag": "ABX9TyPvJYYCz/vTYLZnjK1B1LM5",
      "include_colab_link": true
    },
    "kernelspec": {
      "name": "python3",
      "display_name": "Python 3"
    },
    "language_info": {
      "name": "python"
    }
  },
  "cells": [
    {
      "cell_type": "markdown",
      "metadata": {
        "id": "view-in-github",
        "colab_type": "text"
      },
      "source": [
        "<a href=\"https://colab.research.google.com/github/BigBoat8542/302Lab4/blob/main/Lab4.ipynb\" target=\"_parent\"><img src=\"https://colab.research.google.com/assets/colab-badge.svg\" alt=\"Open In Colab\"/></a>"
      ]
    },
    {
      "cell_type": "code",
      "metadata": {
        "colab": {
          "base_uri": "https://localhost:8080/"
        },
        "id": "GPs5864y4Kp_",
        "outputId": "1b99f403-ab2c-4b49-83b8-b8d77b4c3bfc"
      },
      "source": [
        "# start by initiating an empty list that will hold our output.\n",
        "#Luke w-s\n",
        "one_star_titles = []\n",
        "\n",
        "# Now iterate to get info from each page.\n",
        "# We want to include page 5, so index should go up to, but not include 6,\n",
        "for n in range (1,6):\n",
        "  scrape_url = base_url.format(n)\n",
        "  res = requests.get(scrape_url)\n",
        "  soup = bs4.BeautifulSoup(res.text,'lxml')\n",
        "  books = soup.select(\".product_pod\")\n",
        "  # within our loop, we'll create another loop to parse the books and select star rating of one.\n",
        "  for book in books:\n",
        "    if len(book.select('.star-rating.One')) != 0: # if the list is not empty, then we do have a one star book. Could also use if 'star-rating Five' in str(book)\n",
        "      book_title = book.select('a')[1]['title']\n",
        "      one_star_titles.append(book_title)\n",
        "\n",
        "  print(one_star_titles)"
      ],
      "execution_count": null,
      "outputs": [
        {
          "output_type": "stream",
          "text": [
            "['Tipping the Velvet', 'Soumission', 'The Requiem Red', 'The Black Maria', 'Olio', 'Mesaerion: The Best Science Fiction Stories 1800-1849']\n",
            "['Tipping the Velvet', 'Soumission', 'The Requiem Red', 'The Black Maria', 'Olio', 'Mesaerion: The Best Science Fiction Stories 1800-1849', 'In Her Wake', 'The Bear and the Piano', 'In a Dark, Dark Wood']\n",
            "['Tipping the Velvet', 'Soumission', 'The Requiem Red', 'The Black Maria', 'Olio', 'Mesaerion: The Best Science Fiction Stories 1800-1849', 'In Her Wake', 'The Bear and the Piano', 'In a Dark, Dark Wood', 'When We Collided', 'Unbound: How Eight Technologies Made Us Human, Transformed Society, and Brought Our World to the Brink', 'Tsubasa: WoRLD CHRoNiCLE 2 (Tsubasa WoRLD CHRoNiCLE #2)', 'The Torch Is Passed: A Harding Family Story', 'The Secret of Dreadwillow Carse', 'The Pioneer Woman Cooks: Dinnertime: Comfort Classics, Freezer Food, 16-Minute Meals, and Other Delicious Ways to Solve Supper!']\n",
            "['Tipping the Velvet', 'Soumission', 'The Requiem Red', 'The Black Maria', 'Olio', 'Mesaerion: The Best Science Fiction Stories 1800-1849', 'In Her Wake', 'The Bear and the Piano', 'In a Dark, Dark Wood', 'When We Collided', 'Unbound: How Eight Technologies Made Us Human, Transformed Society, and Brought Our World to the Brink', 'Tsubasa: WoRLD CHRoNiCLE 2 (Tsubasa WoRLD CHRoNiCLE #2)', 'The Torch Is Passed: A Harding Family Story', 'The Secret of Dreadwillow Carse', 'The Pioneer Woman Cooks: Dinnertime: Comfort Classics, Freezer Food, 16-Minute Meals, and Other Delicious Ways to Solve Supper!', 'The Gutsy Girl: Escapades for Your Life of Epic Adventure', 'The Electric Pencil: Drawings from Inside State Hospital No. 3', 'The Age of Genius: The Seventeenth Century and the Birth of the Modern Mind']\n",
            "['Tipping the Velvet', 'Soumission', 'The Requiem Red', 'The Black Maria', 'Olio', 'Mesaerion: The Best Science Fiction Stories 1800-1849', 'In Her Wake', 'The Bear and the Piano', 'In a Dark, Dark Wood', 'When We Collided', 'Unbound: How Eight Technologies Made Us Human, Transformed Society, and Brought Our World to the Brink', 'Tsubasa: WoRLD CHRoNiCLE 2 (Tsubasa WoRLD CHRoNiCLE #2)', 'The Torch Is Passed: A Harding Family Story', 'The Secret of Dreadwillow Carse', 'The Pioneer Woman Cooks: Dinnertime: Comfort Classics, Freezer Food, 16-Minute Meals, and Other Delicious Ways to Solve Supper!', 'The Gutsy Girl: Escapades for Your Life of Epic Adventure', 'The Electric Pencil: Drawings from Inside State Hospital No. 3', 'The Age of Genius: The Seventeenth Century and the Birth of the Modern Mind', 'Pop Gun War, Volume 1: Gift', 'orange: The Complete Collection 1 (orange: The Complete Collection #1)', 'Online Marketing for Busy Authors: A Step-By-Step Guide', 'Layered: Baking, Building, and Styling Spectacular Cakes']\n"
          ],
          "name": "stdout"
        }
      ]
    }
  ]
}